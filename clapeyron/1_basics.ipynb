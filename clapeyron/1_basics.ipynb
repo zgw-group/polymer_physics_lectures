{
 "cells": [
  {
   "cell_type": "markdown",
   "id": "f65dbf6e",
   "metadata": {
    "slideshow": {
     "slide_type": "slide"
    }
   },
   "source": [
    "# Basic use of Clapeyron"
   ]
  },
  {
   "cell_type": "code",
   "execution_count": 1,
   "id": "1f41ceea",
   "metadata": {},
   "outputs": [
    {
     "data": {
      "text/plain": [
       "PyPlot"
      ]
     },
     "metadata": {},
     "output_type": "display_data"
    }
   ],
   "source": [
    "using Clapeyron\n",
    "import PyPlot; const plt = PyPlot"
   ]
  },
  {
   "cell_type": "markdown",
   "id": "b069a0a9",
   "metadata": {
    "slideshow": {
     "slide_type": "slide"
    }
   },
   "source": [
    "## Model construction - Ideal Gas\n",
    "All calculations in Clapeyron revolve around an object we typically call the `model`. These models are meant to carry all of the information required to use a given thermodynamic model. The simplest of these is the basic, monoatomic ideal gas model (`BasicIdeal`), which requires no parameters:"
   ]
  },
  {
   "cell_type": "code",
   "execution_count": 2,
   "id": "0d7dc2ae",
   "metadata": {
    "slideshow": {
     "slide_type": "fragment"
    }
   },
   "outputs": [],
   "source": [
    "model = BasicIdeal();"
   ]
  },
  {
   "cell_type": "markdown",
   "id": "e9be371f",
   "metadata": {
    "slideshow": {
     "slide_type": "fragment"
    }
   },
   "source": [
    "We can now use this object to obtain any property of interest (that is applicable to the ideal gas):"
   ]
  },
  {
   "cell_type": "code",
   "execution_count": 3,
   "id": "f04e6be4",
   "metadata": {
    "slideshow": {
     "slide_type": "fragment"
    }
   },
   "outputs": [
    {
     "data": {
      "text/plain": [
       "0.02478957029602388"
      ]
     },
     "metadata": {},
     "output_type": "display_data"
    }
   ],
   "source": [
    "p = 1e5\n",
    "T = 298.15\n",
    "z = [1.]\n",
    "V = volume(model, p, T, z)"
   ]
  },
  {
   "cell_type": "markdown",
   "id": "1265de85",
   "metadata": {
    "slideshow": {
     "slide_type": "subslide"
    }
   },
   "source": [
    "Where `p` is the pressure in Pa, `T` is the temperature in Kelvin, and `z` is the mole amount of each species (a vector). Within Clapeyron, we treat (almost) all bulk calculations using an $NpT$ ensemble. Pretty much all bulk properties will be written as `property(model, p, T, z)`:"
   ]
  },
  {
   "cell_type": "code",
   "execution_count": 4,
   "id": "3b9ea0aa",
   "metadata": {},
   "outputs": [],
   "source": [
    "S  = entropy(model, p, T, z) # 61.1035079831524 J/K\n",
    "μ  = chemical_potential(model, p, T, z) # -12020.618331170917 J/mol\n",
    "Cp = isobaric_heat_capacity(model, p, T, z) # 20.786156545383097 J/K\n",
    "βT = isothermal_compressibility(model, p, T, z); # 1e-5 1/Pa"
   ]
  },
  {
   "cell_type": "markdown",
   "id": "5c50383a",
   "metadata": {
    "slideshow": {
     "slide_type": "subslide"
    }
   },
   "source": [
    "The `BasicIdeal` model contains no species-specific information. For real species, even at an ideal gas level, they will contain specific contributions arising from rotational and vibrational modes of motion. To account for this, a few ideal gas models have been developed. One of these is the `ReidIdeal` model:"
   ]
  },
  {
   "cell_type": "code",
   "execution_count": 5,
   "id": "3b8925cc",
   "metadata": {
    "slideshow": {
     "slide_type": "fragment"
    }
   },
   "outputs": [
    {
     "data": {
      "text/plain": [
       "ReidIdeal with 1 component:\n",
       " \"carbon dioxide\"\n",
       "Contains parameters: a, b, c, d, e, coeffs, reference_state, Mw"
      ]
     },
     "metadata": {},
     "output_type": "display_data"
    }
   ],
   "source": [
    "model = ReidIdeal([\"carbon dioxide\"])"
   ]
  },
  {
   "cell_type": "markdown",
   "id": "98b35cb8",
   "metadata": {
    "slideshow": {
     "slide_type": "subslide"
    }
   },
   "source": [
    "One can look at the parameters under `model.params`:"
   ]
  },
  {
   "cell_type": "code",
   "execution_count": 6,
   "id": "b55a8f60",
   "metadata": {
    "slideshow": {
     "slide_type": "fragment"
    }
   },
   "outputs": [
    {
     "data": {
      "text/plain": [
       "Clapeyron.ReidIdealParam for [\"carbon dioxide\"] with 8 params:\n",
       " a::SingleParam{Float64}\n",
       " b::SingleParam{Float64}\n",
       " c::SingleParam{Float64}\n",
       " d::SingleParam{Float64}\n",
       " e::SingleParam{Float64}\n",
       " coeffs::SingleParam{NTuple{5, Float64}}\n",
       " reference_state::ReferenceState\n",
       " Mw::SingleParam{Float64}"
      ]
     },
     "metadata": {},
     "output_type": "display_data"
    }
   ],
   "source": [
    "model.params"
   ]
  },
  {
   "cell_type": "code",
   "execution_count": 7,
   "id": "79aacfa9",
   "metadata": {
    "slideshow": {
     "slide_type": "fragment"
    }
   },
   "outputs": [
    {
     "data": {
      "text/plain": [
       "SingleParam{Float64}(\"a\") with 1 component:\n",
       " \"carbon dioxide\" => 27.096833672561402"
      ]
     },
     "metadata": {},
     "output_type": "display_data"
    }
   ],
   "source": [
    "model.params.a"
   ]
  },
  {
   "cell_type": "markdown",
   "id": "10baa9f8",
   "metadata": {
    "slideshow": {
     "slide_type": "subslide"
    }
   },
   "source": [
    "Everything else still works exactly the same where you will see that only the thermal properties have changed:"
   ]
  },
  {
   "cell_type": "code",
   "execution_count": 8,
   "id": "f760c99a",
   "metadata": {},
   "outputs": [],
   "source": [
    "V = volume(model, p, T, z) # 0.02478957029602388 m^3\n",
    "S  = entropy(model, p, T, z) # -39.0413486790645 J/K\n",
    "μ  = chemical_potential(model, p, T, z) # 11645.730929258245 J/mol\n",
    "Cp = isobaric_heat_capacity(model, p, T, z) # 37.021984876735104 J/K\n",
    "βT = isothermal_compressibility(model, p, T, z); # 1e-5 1/Pa"
   ]
  },
  {
   "cell_type": "markdown",
   "id": "00a55c3f",
   "metadata": {
    "slideshow": {
     "slide_type": "subslide"
    }
   },
   "source": [
    "Clapeyron has large pre-existing databases which contain parameters for many species across multiple models. Even then, we don't have parameters for all species. In the case where no parameters are available, it is possible to provide user-defined parameters in one of two ways. The fastest way is within the code itself:"
   ]
  },
  {
   "cell_type": "code",
   "execution_count": 9,
   "id": "9a946710",
   "metadata": {
    "slideshow": {
     "slide_type": "fragment"
    }
   },
   "outputs": [
    {
     "data": {
      "text/plain": [
       "ReidIdeal with 1 component:\n",
       " \"wangium\"\n",
       "Contains parameters: a, b, c, d, e, coeffs, reference_state, Mw"
      ]
     },
     "metadata": {},
     "output_type": "display_data"
    }
   ],
   "source": [
    "model = ReidIdeal([\"wangium\"]; userlocations=(;\n",
    "    Mw = [18.01528],\n",
    "    a = [10.],\n",
    "    b = [5e-3],\n",
    "    c = [7e-5],\n",
    "    d = [2e-8],\n",
    "    e = [1e-11]\n",
    "))"
   ]
  },
  {
   "cell_type": "markdown",
   "id": "c0393d08",
   "metadata": {
    "slideshow": {
     "slide_type": "fragment"
    }
   },
   "source": [
    "The other method would be through `.csv` files which is discussed more in the [docs](https://clapeyronthermo.github.io/Clapeyron.jl/stable/tutorials/user_defined_parameters). While defining parameters inline is convenient, some more-complicated models require many more parameters and, to keep things organized, it is better to store them in `.csv` files."
   ]
  },
  {
   "cell_type": "markdown",
   "id": "3a86ec50",
   "metadata": {
    "slideshow": {
     "slide_type": "slide"
    }
   },
   "source": [
    "## Model Construction - Helmholtz-based models\n",
    "Ideal gas models are by far the simplest class of models available in Clapeyron. To model the behavior of real fluids, we provide two classes of models. The first of these we refer to as Helmholtz-based models. These are any equation of state which can be expressed in terms of a residual Helmholtz free energy:\n",
    "\n",
    "$$\n",
    "A_\\mathrm{res} = f(V,T,\\mathbf{z})\n",
    "$$\n",
    "\n",
    "This includes cubics, SAFT-type and empirical models. The residual contribution is meant to account for all other types of interactions (van der Waals, polar, hydrogen bonding, electrostatics, conformational entropy etc.). "
   ]
  },
  {
   "cell_type": "markdown",
   "id": "d36009d6",
   "metadata": {
    "slideshow": {
     "slide_type": "subslide"
    }
   },
   "source": [
    "When it comes to constructing them, everything works pretty much the same as the ideal gas models. If the parameters are available, one can simply:"
   ]
  },
  {
   "cell_type": "code",
   "execution_count": 10,
   "id": "2edb9b4c",
   "metadata": {
    "slideshow": {
     "slide_type": "fragment"
    }
   },
   "outputs": [
    {
     "data": {
      "text/plain": [
       "PR{BasicIdeal, PRAlpha, NoTranslation, vdW1fRule} with 1 component:\n",
       " \"water\"\n",
       "Contains parameters: a, b, Tc, Pc, Mw"
      ]
     },
     "metadata": {},
     "output_type": "display_data"
    }
   ],
   "source": [
    "model = PR([\"water\"])"
   ]
  },
  {
   "cell_type": "markdown",
   "id": "c9ea05af",
   "metadata": {
    "slideshow": {
     "slide_type": "subslide"
    }
   },
   "source": [
    "### Bulk properties"
   ]
  },
  {
   "cell_type": "markdown",
   "id": "fd446000",
   "metadata": {},
   "source": [
    "Bulk properties are obtained exactly the same way:"
   ]
  },
  {
   "cell_type": "code",
   "execution_count": 11,
   "id": "5f38abbd",
   "metadata": {},
   "outputs": [
    {
     "data": {
      "text/plain": [
       "2.1390790444209544e-5"
      ]
     },
     "metadata": {},
     "output_type": "display_data"
    }
   ],
   "source": [
    "V = volume(model, p, T, z)"
   ]
  },
  {
   "cell_type": "markdown",
   "id": "9619a6d5",
   "metadata": {
    "slideshow": {
     "slide_type": "fragment"
    }
   },
   "source": [
    "There is one small caveat: below the critical point, pure species can exist either in the gas or liquid phase. By default, Clapeyron will obtain both and return the phase which minimizes the Gibbs free energy. This is best observed over a wide temperature range:"
   ]
  },
  {
   "cell_type": "code",
   "execution_count": 12,
   "id": "bdba5c6e",
   "metadata": {
    "slideshow": {
     "slide_type": "fragment"
    }
   },
   "outputs": [],
   "source": [
    "p = 1e5\n",
    "T = LinRange(280.,550,100)\n",
    "V = volume.(model, p, T); # if no composition is specified, Clapeyron assumes z = [1.0]"
   ]
  },
  {
   "cell_type": "markdown",
   "id": "6c4477c6",
   "metadata": {
    "slideshow": {
     "slide_type": "fragment"
    }
   },
   "source": [
    "Note that the `.` operator is used to broadcast the function call over the array of temperatures `T`, allowing for efficient computation of the volume at each temperature."
   ]
  },
  {
   "cell_type": "markdown",
   "id": "0733c2a2",
   "metadata": {
    "slideshow": {
     "slide_type": "subslide"
    }
   },
   "source": [
    "However, if one wanted to obtain just the liquid or just the vapor roots, all that would need to be done is to specify the `phase` kwarg:"
   ]
  },
  {
   "cell_type": "code",
   "execution_count": 13,
   "id": "f6631ddb",
   "metadata": {},
   "outputs": [],
   "source": [
    "Vv = volume.(model,p,T;phase=:vapour)\n",
    "Vl = volume.(model,p,T;phase=:liquid);"
   ]
  },
  {
   "cell_type": "markdown",
   "id": "fbdcd1c6",
   "metadata": {
    "slideshow": {
     "slide_type": "subslide"
    }
   },
   "source": [
    "Visualizing the results:"
   ]
  },
  {
   "cell_type": "code",
   "execution_count": 14,
   "id": "c48953b5",
   "metadata": {
    "slideshow": {
     "slide_type": "skip"
    }
   },
   "outputs": [
    {
     "data": {
      "text/plain": [
       "PyObject <matplotlib.legend.Legend object at 0x321879990>"
      ]
     },
     "metadata": {},
     "output_type": "display_data"
    }
   ],
   "source": [
    "plt.clf()\n",
    "\n",
    "plt.semilogy(T,Vv.*1e6,linestyle=\"--\",color=\"blue\",label=\"Vapour\")\n",
    "plt.semilogy(T,Vl.*1e6,linestyle=\":\",color=\"blue\",label=\"Liquid\")\n",
    "plt.semilogy(T,V.*1e6,linestyle=\"-\",color=\"blue\",label=\"Stable\")\n",
    "\n",
    "plt.xlabel(\"Temperature / K\",fontsize=16)\n",
    "plt.ylabel(\"Volume / (cm³/mol)\",fontsize=16)\n",
    "plt.ylim(1e1,5e5)\n",
    "plt.xlim([280,550])\n",
    "plt.xticks(fontsize=12)\n",
    "plt.yticks(fontsize=12)\n",
    "plt.legend(loc=\"upper left\",frameon=false,fontsize=11)"
   ]
  },
  {
   "cell_type": "code",
   "execution_count": 15,
   "id": "59af551a",
   "metadata": {},
   "outputs": [
    {
     "data": {
      "image/png": "[encoded data removed]",
      "text/plain": [
       "PyPlot.Figure(PyObject <Figure size 640x480 with 1 Axes>)"
      ]
     },
     "metadata": {},
     "output_type": "display_data"
    }
   ],
   "source": [
    "display(plt.gcf())"
   ]
  },
  {
   "cell_type": "markdown",
   "id": "f488b40d",
   "metadata": {},
   "source": [
    "We can see that the phase transition occurs almost exactly at $T=373.15\\,\\mathrm{K}$. All other bulk properties will pretty much work the same way."
   ]
  },
  {
   "cell_type": "markdown",
   "id": "ef45cc6c",
   "metadata": {
    "slideshow": {
     "slide_type": "subslide"
    }
   },
   "source": [
    "### Vapor–liquid equilibrium properties"
   ]
  },
  {
   "cell_type": "markdown",
   "id": "78f84ec4",
   "metadata": {},
   "source": [
    "Another set of properties one might be interested in would be the condition at which the vapor and liquid phases co-exist (the saturation point). Let us say we would like to know the vapor pressure of water at $T=298.15\\,\\mathrm{K}$. To do so, one must solve a simultaneous set of non-linear equations:\n",
    "\n",
    "$$\n",
    "p(V_l,T) = p(V_v,T)\n",
    "$$\n",
    "$$\n",
    "\\mu(V_l,T) = \\mu(V_v,T)\n",
    "$$\n",
    "\n",
    "With two equations and two unknowns, this problem should be solvable. Indeed, this is what is done internally with Clapeyron when one uses the `saturation_pressure(model, T)` function:"
   ]
  },
  {
   "cell_type": "code",
   "execution_count": 16,
   "id": "19d518af",
   "metadata": {
    "slideshow": {
     "slide_type": "fragment"
    }
   },
   "outputs": [
    {
     "data": {
      "text/plain": [
       "(2686.595773329244, 2.1391045835208427e-5, 0.922332512018773)"
      ]
     },
     "metadata": {},
     "output_type": "display_data"
    }
   ],
   "source": [
    "T = 298.15\n",
    "(p, vl, vv) = saturation_pressure(model, T)"
   ]
  },
  {
   "cell_type": "markdown",
   "id": "ad661b08",
   "metadata": {
    "slideshow": {
     "slide_type": "subslide"
    }
   },
   "source": [
    "An equivalent function exists for the saturation temperature:"
   ]
  },
  {
   "cell_type": "code",
   "execution_count": 17,
   "id": "ea0bc71a",
   "metadata": {},
   "outputs": [
    {
     "data": {
      "text/plain": [
       "(374.2402124727243, 2.2697623673985157e-5, 0.030849393761972824)"
      ]
     },
     "metadata": {},
     "output_type": "display_data"
    }
   ],
   "source": [
    "p = 1e5\n",
    "(T, vl, vv) = saturation_temperature(model, p)"
   ]
  },
  {
   "cell_type": "markdown",
   "id": "17c2c87b",
   "metadata": {
    "slideshow": {
     "slide_type": "subslide"
    }
   },
   "source": [
    "If desired, one can use these functions to trace out the full VLE envelope of water. One crucial piece of information that will be needed: the critical point. Thankfully, there is an function that obtains it for us:"
   ]
  },
  {
   "cell_type": "code",
   "execution_count": 18,
   "id": "400934d6",
   "metadata": {
    "slideshow": {
     "slide_type": "fragment"
    }
   },
   "outputs": [
    {
     "data": {
      "text/plain": [
       "(647.13, 2.19e7, 7.552440558745412e-5)"
      ]
     },
     "metadata": {},
     "output_type": "display_data"
    }
   ],
   "source": [
    "(Tc, pc, vc) = crit_pure(model)"
   ]
  },
  {
   "cell_type": "markdown",
   "id": "f3b05d7e",
   "metadata": {
    "slideshow": {
     "slide_type": "fragment"
    }
   },
   "source": [
    "Note that, for cubics, the critical point is a parameter. In other models such as SAFT-based ones, the critical point must be solved numerically. "
   ]
  },
  {
   "cell_type": "markdown",
   "id": "eaee9ac4",
   "metadata": {
    "slideshow": {
     "slide_type": "subslide"
    }
   },
   "source": [
    "With this, we can now trace the full phase diagram:"
   ]
  },
  {
   "cell_type": "code",
   "execution_count": null,
   "id": "37222b00",
   "metadata": {},
   "outputs": [],
   "source": [
    "N    = 100\n",
    "\n",
    "T    = LinRange(298.15, Tc,  N)\n",
    "psat = zeros(N)\n",
    "vl   = zeros(N)\n",
    "vv   = zeros(N)\n",
    "\n",
    "for i in 1:N\n",
    "    sat = saturation_pressure(model, T[i])\n",
    "    psat[i] = sat[1]\n",
    "    vl[i] = sat[2]\n",
    "    vv[i] = sat[3]\n",
    "end"
   ]
  },
  {
   "cell_type": "markdown",
   "id": "c4dbd9a5",
   "metadata": {
    "slideshow": {
     "slide_type": "subslide"
    }
   },
   "source": [
    "Plotting the $pT$ curve:"
   ]
  },
  {
   "cell_type": "code",
   "execution_count": 20,
   "id": "58e4a1f8",
   "metadata": {
    "slideshow": {
     "slide_type": "skip"
    }
   },
   "outputs": [
    {
     "data": {
      "text/plain": [
       "([0.0001, 0.001, 0.01, 0.1, 1.0, 10.0, 100.0, 1000.0], PyCall.PyObject[PyObject Text(0, 0.0001, '$\\\\mathdefault{10^{-4}}$'), PyObject Text(0, 0.001, '$\\\\mathdefault{10^{-3}}$'), PyObject Text(0, 0.01, '$\\\\mathdefault{10^{-2}}$'), PyObject Text(0, 0.1, '$\\\\mathdefault{10^{-1}}$'), PyObject Text(0, 1.0, '$\\\\mathdefault{10^{0}}$'), PyObject Text(0, 10.0, '$\\\\mathdefault{10^{1}}$'), PyObject Text(0, 100.0, '$\\\\mathdefault{10^{2}}$'), PyObject Text(0, 1000.0, '$\\\\mathdefault{10^{3}}$')])"
      ]
     },
     "metadata": {},
     "output_type": "display_data"
    }
   ],
   "source": [
    "plt.clf()\n",
    "plt.semilogy(T, psat./1e6, color=\"blue\")\n",
    "plt.plot([Tc],[pc]./1e6, marker=\"o\",color=\"blue\")\n",
    "plt.xlabel(\"Temperature / K\",fontsize=16)\n",
    "plt.ylabel(\"Pressure / MPa\",fontsize=16)\n",
    "plt.xlim([300,690])\n",
    "plt.xticks(fontsize=12)\n",
    "plt.yticks(fontsize=12)"
   ]
  },
  {
   "cell_type": "code",
   "execution_count": 21,
   "id": "5bb1bd9f",
   "metadata": {},
   "outputs": [
    {
     "data": {
      "image/png": "[encoded data removed]",
      "text/plain": [
       "PyPlot.Figure(PyObject <Figure size 640x480 with 1 Axes>)"
      ]
     },
     "metadata": {},
     "output_type": "display_data"
    }
   ],
   "source": [
    "display(plt.gcf())"
   ]
  },
  {
   "cell_type": "markdown",
   "id": "fd866142",
   "metadata": {
    "slideshow": {
     "slide_type": "subslide"
    }
   },
   "source": [
    "And the $\\rho T$ curve:"
   ]
  },
  {
   "cell_type": "code",
   "execution_count": 22,
   "id": "926b9d67",
   "metadata": {
    "slideshow": {
     "slide_type": "skip"
    }
   },
   "outputs": [
    {
     "data": {
      "text/plain": [
       "([300.0, 350.0, 400.0, 450.0, 500.0, 550.0, 600.0, 650.0, 700.0], PyCall.PyObject[PyObject Text(0, 300.0, '300'), PyObject Text(0, 350.0, '350'), PyObject Text(0, 400.0, '400'), PyObject Text(0, 450.0, '450'), PyObject Text(0, 500.0, '500'), PyObject Text(0, 550.0, '550'), PyObject Text(0, 600.0, '600'), PyObject Text(0, 650.0, '650'), PyObject Text(0, 700.0, '700')])"
      ]
     },
     "metadata": {},
     "output_type": "display_data"
    }
   ],
   "source": [
    "plt.clf()\n",
    "plt.plot(1e-3 ./vl, T, color=\"blue\")\n",
    "plt.plot(1e-3 ./vv, T, color=\"blue\")\n",
    "\n",
    "plt.plot([1e-3/vc],[Tc], marker=\"o\",color=\"blue\")\n",
    "plt.ylabel(\"Temperature / K\",fontsize=16)\n",
    "plt.xlabel(\"Density / (mol/dm³)\",fontsize=16)\n",
    "plt.ylim([300,690])\n",
    "plt.xticks(fontsize=12)\n",
    "plt.yticks(fontsize=12)"
   ]
  },
  {
   "cell_type": "code",
   "execution_count": 23,
   "id": "2c65b7c2",
   "metadata": {},
   "outputs": [
    {
     "data": {
      "image/png": "[encoded data removed]",
      "text/plain": [
       "PyPlot.Figure(PyObject <Figure size 640x480 with 1 Axes>)"
      ]
     },
     "metadata": {},
     "output_type": "display_data"
    }
   ],
   "source": [
    "display(plt.gcf())"
   ]
  },
  {
   "cell_type": "markdown",
   "id": "e4d629d4",
   "metadata": {},
   "source": [
    "For most cases, this covers what one might be interested in for pure components."
   ]
  },
  {
   "cell_type": "markdown",
   "id": "278e5ad3",
   "metadata": {
    "slideshow": {
     "slide_type": "slide"
    }
   },
   "source": [
    "## Binary mixtures\n",
    "Building a model for a binary (or multicomponent) mixture isn't that much more challenging:"
   ]
  },
  {
   "cell_type": "code",
   "execution_count": 24,
   "id": "d45f98e3",
   "metadata": {
    "slideshow": {
     "slide_type": "fragment"
    }
   },
   "outputs": [
    {
     "data": {
      "text/plain": [
       "PCSAFT{BasicIdeal, Float64} with 2 components:\n",
       " \"cyclohexane\"\n",
       " \"methanol\"\n",
       "Contains parameters: Mw, segment, sigma, epsilon, epsilon_assoc, bondvol"
      ]
     },
     "metadata": {},
     "output_type": "display_data"
    }
   ],
   "source": [
    "model = PCSAFT([\"cyclohexane\", \"methanol\"])"
   ]
  },
  {
   "cell_type": "markdown",
   "id": "1e9d3a44",
   "metadata": {
    "slideshow": {
     "slide_type": "subslide"
    }
   },
   "source": [
    "### Bulk properties"
   ]
  },
  {
   "cell_type": "markdown",
   "id": "b0e614ee",
   "metadata": {},
   "source": [
    "What does become more challenging is the properties one may want to obtain. Generally, bulk properties can be obtained as:"
   ]
  },
  {
   "cell_type": "code",
   "execution_count": 25,
   "id": "33c067a9",
   "metadata": {
    "slideshow": {
     "slide_type": "fragment"
    }
   },
   "outputs": [
    {
     "data": {
      "text/plain": [
       "7.63206620394643e-5"
      ]
     },
     "metadata": {},
     "output_type": "display_data"
    }
   ],
   "source": [
    "p = 1e5\n",
    "T = 298.15\n",
    "z = [0.5,0.5]\n",
    "V = volume(model, p, T, z)"
   ]
  },
  {
   "cell_type": "markdown",
   "id": "e5f67037",
   "metadata": {},
   "source": [
    "Note that these calculations assume the mixture exists as a single phase (more on that later). "
   ]
  },
  {
   "cell_type": "markdown",
   "id": "5a20c04a",
   "metadata": {
    "slideshow": {
     "slide_type": "subslide"
    }
   },
   "source": [
    "In most cases, when it comes to binary mixtures, we are usually more interested in excess properties rather than total:\n",
    "$$\n",
    "X_E = X_\\mathrm{mix} - \\sum_i x_i X_i^* -\\Delta X_\\mathrm{id-mix}\n",
    "$$\n",
    "where, for most properties, $\\Delta X_\\mathrm{id-mix}=0$. These can be obtained using the `excess` function:\n"
   ]
  },
  {
   "cell_type": "code",
   "execution_count": 26,
   "id": "c8f855bc",
   "metadata": {
    "slideshow": {
     "slide_type": "fragment"
    }
   },
   "outputs": [],
   "source": [
    "x = range(0,1,length=100)\n",
    "X = Clapeyron.FractionVector.(x) # FractionVector is used to make it easier to broadcast across compositions\n",
    "V_E = excess.(model,p,T,X,volume);"
   ]
  },
  {
   "cell_type": "markdown",
   "id": "56421515",
   "metadata": {
    "slideshow": {
     "slide_type": "subslide"
    }
   },
   "source": [
    "Plotting:"
   ]
  },
  {
   "cell_type": "code",
   "execution_count": 27,
   "id": "d44d77b5",
   "metadata": {
    "slideshow": {
     "slide_type": "skip"
    }
   },
   "outputs": [
    {
     "data": {
      "text/plain": [
       "([0.0, 0.2, 0.4, 0.6000000000000001, 0.8, 1.0], PyCall.PyObject[PyObject Text(0, 0.0, '0.0'), PyObject Text(0, 0.2, '0.2'), PyObject Text(0, 0.4, '0.4'), PyObject Text(0, 0.6000000000000001, '0.6'), PyObject Text(0, 0.8, '0.8'), PyObject Text(0, 1.0, '1.0')])"
      ]
     },
     "metadata": {},
     "output_type": "display_data"
    }
   ],
   "source": [
    "plt.clf()\n",
    "plt.plot(1 .-x,V_E.*1e6,label=\"PR\",linestyle=\"-\",color=\"blue\")\n",
    "plt.xlabel(\"composition of cyclohexane\",fontsize=16)\n",
    "plt.ylabel(\"Excess Volume / (cm³/mol)\",fontsize=16)\n",
    "plt.ylim([0.,1.])\n",
    "plt.xlim([0,1])\n",
    "plt.xticks(fontsize=12)\n",
    "plt.yticks(fontsize=12)\n",
    "# plt.savefig(\"excess_vol_etoh_h2o.svg\")"
   ]
  },
  {
   "cell_type": "code",
   "execution_count": 28,
   "id": "6a99f360",
   "metadata": {},
   "outputs": [
    {
     "data": {
      "image/png": "[encoded data removed]",
      "text/plain": [
       "PyPlot.Figure(PyObject <Figure size 640x480 with 1 Axes>)"
      ]
     },
     "metadata": {},
     "output_type": "display_data"
    }
   ],
   "source": [
    "display(plt.gcf())"
   ]
  },
  {
   "cell_type": "markdown",
   "id": "964e148d",
   "metadata": {},
   "source": [
    "This can also be done for any other bulk property!"
   ]
  },
  {
   "cell_type": "markdown",
   "id": "3446e7ba",
   "metadata": {
    "slideshow": {
     "slide_type": "slide"
    }
   },
   "source": [
    "### Vapor–Liquid Equilibrium\n",
    "Examining vapor-liquid equilibrium of binary mixtures now becomes a lot more challenging. The conditions can now be written as:\n",
    "$$\n",
    "p(V_l,T,\\mathbf{x}_l) = p(V_v,T,\\mathbf{y}_v)\n",
    "$$\n",
    "$$\n",
    "\\mu_1(V_l,T,\\mathbf{x}_l) = \\mu_1(V_v,T,\\mathbf{y}_v)\n",
    "$$\n",
    "$$\n",
    "\\mu_2(V_l,T,\\mathbf{x}_l) = \\mu_2(V_v,T,\\mathbf{y}_v)\n",
    "$$\n",
    "where we now have three equations and four unknowns (assuming compositions add up to one), meaning we must specify one of the unknowns. Let us say we want to obtain the bubble point of this mixture at a given temperature and liquid composition ($\\mathbf{x}_l$ is now specified). We can obtain this by using the `bubble_pressure(model, T, x)` function:"
   ]
  },
  {
   "cell_type": "code",
   "execution_count": 29,
   "id": "e7a154ad",
   "metadata": {
    "slideshow": {
     "slide_type": "fragment"
    }
   },
   "outputs": [
    {
     "data": {
      "text/plain": [
       "(27926.78138837041, 7.632937356775668e-5, 0.08498568298922671, [0.4488562229605732, 0.5511437770394267])"
      ]
     },
     "metadata": {},
     "output_type": "display_data"
    }
   ],
   "source": [
    "T = 298.15\n",
    "x = [0.5,0.5]\n",
    "(p, vl, vv, y) = bubble_pressure(model, T, x)"
   ]
  },
  {
   "cell_type": "markdown",
   "id": "0a606e8f",
   "metadata": {},
   "source": [
    "An equivalent function exists for the dew pressure, as well as for bubble and dew temperatures."
   ]
  },
  {
   "cell_type": "markdown",
   "id": "9c3fa37b",
   "metadata": {
    "slideshow": {
     "slide_type": "subslide"
    }
   },
   "source": [
    "Drawing out the full phase diagram is now a bit tricky as we have three variables which define the phase space (composition, temperature and pressure). A convenient way to visualize the phase equilibrium is to take a 2D slice where one of the three variables have been fixed. In this tutorial, we will take an isobaric slice. A similar methodology can be used to obtain an isothermal slice. Constant composition slices are more challenging; guidance can be found in another [notebook](https://github.com/ClapeyronThermo/Clapeyron.jl/blob/master/examples/binary_phase_equilibrium.ipynb)."
   ]
  },
  {
   "cell_type": "code",
   "execution_count": 30,
   "id": "d2926e2c",
   "metadata": {},
   "outputs": [],
   "source": [
    "N    = 201\n",
    "p    = 1e5\n",
    "\n",
    "x    = LinRange(0., 1.,  N)\n",
    "T    = zeros(N)\n",
    "y    = zeros(N)\n",
    "\n",
    "v0 = nothing\n",
    "for i in 1:N\n",
    "    bub = bubble_temperature(model, p, [x[i], 1-x[i]])\n",
    "    T[i] = bub[1]\n",
    "    y[i] = bub[4][1]\n",
    "end"
   ]
  },
  {
   "cell_type": "markdown",
   "id": "3f8324bf",
   "metadata": {
    "slideshow": {
     "slide_type": "subslide"
    }
   },
   "source": [
    "Plotting:"
   ]
  },
  {
   "cell_type": "code",
   "execution_count": 33,
   "id": "d5c9785f",
   "metadata": {
    "slideshow": {
     "slide_type": "skip"
    }
   },
   "outputs": [
    {
     "data": {
      "text/plain": [
       "([325.0, 330.0, 335.0, 340.0, 345.0, 350.0, 355.0], PyCall.PyObject[PyObject Text(0, 325.0, '325'), PyObject Text(0, 330.0, '330'), PyObject Text(0, 335.0, '335'), PyObject Text(0, 340.0, '340'), PyObject Text(0, 345.0, '345'), PyObject Text(0, 350.0, '350'), PyObject Text(0, 355.0, '355')])"
      ]
     },
     "metadata": {},
     "output_type": "display_data"
    }
   ],
   "source": [
    "plt.clf()\n",
    "plt.plot(x, T, color=\"red\")\n",
    "plt.plot(y, T, color=\"red\")\n",
    "plt.xlabel(\"composition / (mol/mol)\",fontsize=16)\n",
    "plt.ylabel(\"Temperature / K\",fontsize=16)\n",
    "plt.xlim([0,1])\n",
    "plt.xticks(fontsize=12)\n",
    "plt.yticks(fontsize=12)"
   ]
  },
  {
   "cell_type": "code",
   "execution_count": 34,
   "id": "8e172b1c",
   "metadata": {},
   "outputs": [
    {
     "data": {
      "image/png": "[encoded data removed]",
      "text/plain": [
       "PyPlot.Figure(PyObject <Figure size 640x480 with 1 Axes>)"
      ]
     },
     "metadata": {},
     "output_type": "display_data"
    }
   ],
   "source": [
    "display(plt.gcf())"
   ]
  },
  {
   "cell_type": "markdown",
   "id": "89ea7000",
   "metadata": {},
   "source": [
    "This code should generalize to most subcritical binary mixtures."
   ]
  },
  {
   "cell_type": "markdown",
   "id": "960adcc3",
   "metadata": {
    "slideshow": {
     "slide_type": "slide"
    }
   },
   "source": [
    "### Liquid–Liquid Equilibrium\n",
    "Our choice of a methanol+cyclohexane mixture was intentional as, not only does it exhibit vapor–liquid equilibrium, it also exhibits liquid–liquid equilibrium. This is most evident when we consider the Gibbs free energy of mixing:"
   ]
  },
  {
   "cell_type": "code",
   "execution_count": 38,
   "id": "8ac1535d",
   "metadata": {},
   "outputs": [],
   "source": [
    "p = 1e5\n",
    "T_lle = 288.15\n",
    "x_lle = range(0,1,length=100)\n",
    "X = Clapeyron.FractionVector.(x_lle) # FractionVector is used to make it easier to broadcast across compositions\n",
    "g_mix = mixing.(model,p,T_lle,X,gibbs_free_energy);"
   ]
  },
  {
   "cell_type": "markdown",
   "id": "621ba190",
   "metadata": {
    "slideshow": {
     "slide_type": "subslide"
    }
   },
   "source": [
    "Plotting:"
   ]
  },
  {
   "cell_type": "code",
   "execution_count": 39,
   "id": "c7e52373",
   "metadata": {
    "slideshow": {
     "slide_type": "skip"
    }
   },
   "outputs": [
    {
     "data": {
      "text/plain": [
       "([-200.0, -175.0, -150.0, -125.0, -100.0, -75.0, -50.0, -25.0, 0.0, 25.0], PyCall.PyObject[PyObject Text(0, -200.0, '−200'), PyObject Text(0, -175.0, '−175'), PyObject Text(0, -150.0, '−150'), PyObject Text(0, -125.0, '−125'), PyObject Text(0, -100.0, '−100'), PyObject Text(0, -75.0, '−75'), PyObject Text(0, -50.0, '−50'), PyObject Text(0, -25.0, '−25'), PyObject Text(0, 0.0, '0'), PyObject Text(0, 25.0, '25')])"
      ]
     },
     "metadata": {},
     "output_type": "display_data"
    }
   ],
   "source": [
    "plt.clf()\n",
    "plt.plot(1 .-x_lle,g_mix,label=\"PR\",linestyle=\"-\",color=\"blue\")\n",
    "plt.xlabel(\"composition of cyclohexane\",fontsize=16)\n",
    "plt.ylabel(\"Excess Gibbs Free Energy / (J/mol)\",fontsize=16)\n",
    "# plt.ylim([-200,0.])\n",
    "plt.xlim([0,1])\n",
    "plt.xticks(fontsize=12)\n",
    "plt.yticks(fontsize=12)\n",
    "# plt.savefig(\"excess_vol_etoh_h2o.svg\")"
   ]
  },
  {
   "cell_type": "code",
   "execution_count": 40,
   "id": "f4eb61ff",
   "metadata": {},
   "outputs": [
    {
     "data": {
      "image/png": "[encoded data removed]",
      "text/plain": [
       "PyPlot.Figure(PyObject <Figure size 640x480 with 1 Axes>)"
      ]
     },
     "metadata": {},
     "output_type": "display_data"
    }
   ],
   "source": [
    "display(plt.gcf())"
   ]
  },
  {
   "cell_type": "markdown",
   "id": "45c9deb0",
   "metadata": {},
   "source": [
    "We can see that there should be two coexisting phases present."
   ]
  },
  {
   "cell_type": "markdown",
   "id": "dada48dc",
   "metadata": {
    "slideshow": {
     "slide_type": "subslide"
    }
   },
   "source": [
    "In this case, what we would like to do is figure out: what is the state of the system at a given $\\mathbf{z}_0$, $p$ and $T$? This is also typically referred to as a flash calculation. In Clapeyron, this is done with the `tp_flash(model, p, T, z)` method. This can easily work for vapor–liquid equilibrium:"
   ]
  },
  {
   "cell_type": "code",
   "execution_count": 199,
   "id": "aee01f1e",
   "metadata": {
    "slideshow": {
     "slide_type": "fragment"
    }
   },
   "outputs": [
    {
     "data": {
      "text/plain": [
       "2×2 Matrix{Float64}:\n",
       " 0.992125  0.00787493\n",
       " 0.645266  0.354734"
      ]
     },
     "metadata": {},
     "output_type": "display_data"
    }
   ],
   "source": [
    "p = 1e5\n",
    "T_vle = 340.\n",
    "z = [0.8, 0.2]\n",
    "(X,n,G) = tp_flash(model, p, T_vle, z, RRTPFlash(equilibrium=:vle))\n",
    "X"
   ]
  },
  {
   "cell_type": "markdown",
   "id": "1a0e9127",
   "metadata": {},
   "source": [
    "Where the compositions of each component in each phase is stored within `X`."
   ]
  },
  {
   "cell_type": "markdown",
   "id": "3314bef9",
   "metadata": {
    "slideshow": {
     "slide_type": "subslide"
    }
   },
   "source": [
    "Clapeyron has internal functions to handle the initial guesses for $\\mathbf{K}^{\\mathrm{VLE}}$. For LLE, one needs to use a slightly more-advanced flash algorithm called `MichelsenTPFlash`. In general, for LLE, it is generally safe to assumed that equimolar compositions should be somewhere in the middle of the phase diagram:"
   ]
  },
  {
   "cell_type": "code",
   "execution_count": 204,
   "id": "2ff13c4a",
   "metadata": {
    "slideshow": {
     "slide_type": "fragment"
    }
   },
   "outputs": [
    {
     "data": {
      "text/plain": [
       "2×2 Matrix{Float64}:\n",
       " 0.201414  0.798586\n",
       " 0.88242   0.11758"
      ]
     },
     "metadata": {},
     "output_type": "display_data"
    }
   ],
   "source": [
    "p = 1e5\n",
    "T_lle = 298.15\n",
    "z = [0.5, 0.5]\n",
    "(X,n,G) = tp_flash(model, p, T_lle, z, MichelsenTPFlash(equilibrium=:lle))\n",
    "X"
   ]
  },
  {
   "cell_type": "markdown",
   "id": "1649060e",
   "metadata": {
    "slideshow": {
     "slide_type": "subslide"
    }
   },
   "source": [
    "With this, we can now trace the LLE region. We can't really find out ahead of time what the exact position of the UCST is. As such, the only way to end the trace is to stop the calculation when the two compositions approach similar values:"
   ]
  },
  {
   "cell_type": "code",
   "execution_count": 200,
   "id": "7f20b3d8",
   "metadata": {},
   "outputs": [],
   "source": [
    "N    = 200\n",
    "Tlle = LinRange(300.,minimum(T),N)\n",
    "x1   = zeros(N)\n",
    "x2   = zeros(N)\n",
    "\n",
    "K0 = [1e5, 1e-4]\n",
    "z  = [0.5,0.5]\n",
    "\n",
    "idxend = N\n",
    "for i in 1:N\n",
    "    (n,_,_) = tp_flash(model, p, Tlle[i], z, MichelsenTPFlash(equilibrium=:lle, K0=K0))\n",
    "    K0 = n[2,:]./n[1,:]\n",
    "    z = (n[1,:]+n[2,:])/2\n",
    "    x1[i] = n[1,1]\n",
    "    x2[i] = n[2,1]\n",
    "    if abs(x1[i]-x2[i])<1e-3\n",
    "        idxend = i\n",
    "        break\n",
    "    end\n",
    "end"
   ]
  },
  {
   "cell_type": "markdown",
   "id": "425a074f",
   "metadata": {
    "slideshow": {
     "slide_type": "subslide"
    }
   },
   "source": [
    "Combining the VLE and LLE regions:"
   ]
  },
  {
   "cell_type": "code",
   "execution_count": 202,
   "id": "2ed38d9a",
   "metadata": {
    "slideshow": {
     "slide_type": "skip"
    }
   },
   "outputs": [
    {
     "data": {
      "text/plain": [
       "([300.0, 310.0, 320.0, 330.0, 340.0, 350.0, 360.0], PyCall.PyObject[PyObject Text(0, 300.0, '300'), PyObject Text(0, 310.0, '310'), PyObject Text(0, 320.0, '320'), PyObject Text(0, 330.0, '330'), PyObject Text(0, 340.0, '340'), PyObject Text(0, 350.0, '350'), PyObject Text(0, 360.0, '360')])"
      ]
     },
     "metadata": {},
     "output_type": "display_data"
    }
   ],
   "source": [
    "plt.clf()\n",
    "plt.plot(x, T, color=\"red\")\n",
    "plt.plot(y, T, color=\"red\")\n",
    "\n",
    "plt.plot(x1[1:idxend], Tlle[1:idxend], color=\"red\")\n",
    "plt.plot(x2[1:idxend], Tlle[1:idxend], color=\"red\")\n",
    "plt.xlabel(\"composition / (mol/mol)\",fontsize=16)\n",
    "plt.ylabel(\"Temperature / K\",fontsize=16)\n",
    "plt.xlim([0,1])\n",
    "plt.ylim([300,355])\n",
    "plt.xticks(fontsize=12)\n",
    "plt.yticks(fontsize=12)\n",
    "# plt.savefig(\"meoh_cyhex_Txy_lle.png\")"
   ]
  },
  {
   "cell_type": "code",
   "execution_count": 203,
   "id": "2116c264",
   "metadata": {},
   "outputs": [
    {
     "data": {
      "image/png": "[encoded data removed]",
      "text/plain": [
       "PyPlot.Figure(PyObject <Figure size 640x480 with 1 Axes>)"
      ]
     },
     "metadata": {},
     "output_type": "display_data"
    }
   ],
   "source": [
    "display(plt.gcf())"
   ]
  },
  {
   "cell_type": "markdown",
   "id": "78f04ad9",
   "metadata": {},
   "source": [
    "This type of phase diagram is quite simple. Binary phase diagrams can become very complicated. See the full [notebook](https://github.com/ClapeyronThermo/Clapeyron.jl/blob/master/examples/binary_phase_equilibrium.ipynb) for more examples."
   ]
  },
  {
   "cell_type": "markdown",
   "id": "3e452293",
   "metadata": {
    "slideshow": {
     "slide_type": "slide"
    }
   },
   "source": [
    "### Solid–liquid equilibrium\n",
    "All models considered thus far only consider fluid phases (vapor and liquid). The solid phase must be handled by a separate model. This can be done using the `CompositeModel` framework, which allows users to combine multiple models in the hopes of accessing phenomena the models couldn't handle in isolation. This is particularly useful when one would like to model solid–liquid equilibrium through the following equation:\n",
    "$$\n",
    "\\ln a_i = -\\frac{\\Delta h_{\\mathrm{fus},i}}{k_\\mathrm{B}}\\left(\\frac{1}{T}-\\frac{1}{T_{\\mathrm{fus},i}}\\right)\n",
    "$$\n",
    "Let us model the solid–liquid equilibrium between 1-decanol and thymol:"
   ]
  },
  {
   "cell_type": "code",
   "execution_count": 4,
   "id": "85d55e90",
   "metadata": {
    "slideshow": {
     "slide_type": "fragment"
    }
   },
   "outputs": [
    {
     "data": {
      "text/plain": [
       "Composite Model with 2 components:\n",
       " \"1-decanol\"\n",
       " \"thymol\"\n",
       "Solid Model: SolidHfus(\"1-decanol\", \"thymol\")\n",
       "Fluid Model: PCSAFT{BasicIdeal, Float64}(\"1-decanol\", \"thymol\")"
      ]
     },
     "metadata": {},
     "output_type": "display_data"
    }
   ],
   "source": [
    "model = CompositeModel([\"1-decanol\",\"thymol\"]; fluid=PCSAFT, solid=SolidHfus)"
   ]
  },
  {
   "cell_type": "markdown",
   "id": "db2c7d8c",
   "metadata": {
    "slideshow": {
     "slide_type": "subslide"
    }
   },
   "source": [
    "We can solve for the composition of the liquid phase in equilibrium with a pure solid phase (specified by the `solute` argument):"
   ]
  },
  {
   "cell_type": "code",
   "execution_count": 5,
   "id": "fde28f1d",
   "metadata": {
    "slideshow": {
     "slide_type": "fragment"
    }
   },
   "outputs": [
    {
     "data": {
      "text/plain": [
       "2-element Vector{Float64}:\n",
       " 0.8567444678533104\n",
       " 0.14325553214668965"
      ]
     },
     "metadata": {},
     "output_type": "display_data"
    }
   ],
   "source": [
    "p  = 1e5\n",
    "T  = 277.15\n",
    "z0 = [0.5,0.5] # Initial ratio; no effect in a binary mixture\n",
    "s  = sle_solubility(model, p, T, z0; solute=[\"1-decanol\"])"
   ]
  },
  {
   "cell_type": "markdown",
   "id": "fe68bf4d",
   "metadata": {
    "slideshow": {
     "slide_type": "subslide"
    }
   },
   "source": [
    "To draw the full solid–liquid equilibrium phase diagram, it is a bit easier to solve for the equilibrium temperature rather than equilibrium composition, using `sle_solubility_T(model, x, p)`:"
   ]
  },
  {
   "cell_type": "code",
   "execution_count": 6,
   "id": "1c9f4781",
   "metadata": {
    "slideshow": {
     "slide_type": "fragment"
    }
   },
   "outputs": [
    {
     "data": {
      "text/plain": [
       "277.774546589946"
      ]
     },
     "metadata": {},
     "output_type": "display_data"
    }
   ],
   "source": [
    "x = [0.8,0.2]\n",
    "p = 1e5\n",
    "T = Clapeyron.sle_solubility_T(model, x, p)"
   ]
  },
  {
   "cell_type": "markdown",
   "id": "0ac4bb16",
   "metadata": {
    "slideshow": {
     "slide_type": "subslide"
    }
   },
   "source": [
    "Tracing the full diagram:"
   ]
  },
  {
   "cell_type": "code",
   "execution_count": 7,
   "id": "c83ece22",
   "metadata": {},
   "outputs": [],
   "source": [
    "x = LinRange(0.,1.0, 200)\n",
    "T = zeros(length(x))\n",
    "T[1] = model.solid.params.Tm[2]\n",
    "T[end] = model.solid.params.Tm[1]\n",
    "\n",
    "for i in 2:length(x)-1\n",
    "    T[i] = Clapeyron.sle_solubility_T(model, [x[i], 1-x[i]], p)\n",
    "end"
   ]
  },
  {
   "cell_type": "markdown",
   "id": "23cb90f0",
   "metadata": {
    "slideshow": {
     "slide_type": "subslide"
    }
   },
   "source": [
    "Plotting:"
   ]
  },
  {
   "cell_type": "code",
   "execution_count": 8,
   "id": "7a729cee",
   "metadata": {
    "slideshow": {
     "slide_type": "skip"
    }
   },
   "outputs": [
    {
     "data": {
      "text/plain": [
       "([270.0, 280.0, 290.0, 300.0, 310.0, 320.0, 330.0], PyCall.PyObject[PyObject Text(0, 270.0, '270'), PyObject Text(0, 280.0, '280'), PyObject Text(0, 290.0, '290'), PyObject Text(0, 300.0, '300'), PyObject Text(0, 310.0, '310'), PyObject Text(0, 320.0, '320'), PyObject Text(0, 330.0, '330')])"
      ]
     },
     "metadata": {},
     "output_type": "display_data"
    }
   ],
   "source": [
    "plt.clf()\n",
    "plt.plot(x, T, color=\"blue\")\n",
    "T_E = minimum(T)\n",
    "x_E = x[argmin(T)]\n",
    "plt.plot([0, 1], [T_E, T_E], color=\"blue\", linestyle=\"--\")\n",
    "plt.plot([x_E],[T_E], marker=\"s\",color=\"blue\")\n",
    "plt.xlabel(\"composition / (mol/mol)\",fontsize=16)\n",
    "plt.ylabel(\"Temperature / K\",fontsize=16)\n",
    "plt.xlim([0,1])\n",
    "plt.ylim([275,325])\n",
    "plt.xticks(fontsize=12)\n",
    "plt.yticks(fontsize=12)"
   ]
  },
  {
   "cell_type": "code",
   "execution_count": 9,
   "id": "21ec46ee",
   "metadata": {},
   "outputs": [
    {
     "data": {
      "image/png": "[encoded data removed]",
      "text/plain": [
       "PyPlot.Figure(PyObject <Figure size 640x480 with 1 Axes>)"
      ]
     },
     "metadata": {},
     "output_type": "display_data"
    }
   ],
   "source": [
    "display(plt.gcf())"
   ]
  },
  {
   "cell_type": "code",
   "execution_count": null,
   "id": "adaec4cc",
   "metadata": {},
   "outputs": [],
   "source": []
  }
 ],
 "metadata": {
  "kernelspec": {
   "display_name": "Julia 1.10.6",
   "language": "julia",
   "name": "julia-1.10"
  },
  "language_info": {
   "file_extension": ".jl",
   "mimetype": "application/julia",
   "name": "julia",
   "version": "1.10.6"
  }
 },
 "nbformat": 4,
 "nbformat_minor": 5
}
